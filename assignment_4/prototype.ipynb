{
 "cells": [
  {
   "cell_type": "code",
   "execution_count": 2,
   "metadata": {},
   "outputs": [],
   "source": [
    "import numpy as np\n",
    "import torch"
   ]
  },
  {
   "cell_type": "markdown",
   "metadata": {},
   "source": [
    "Softthresholding function"
   ]
  },
  {
   "cell_type": "code",
   "execution_count": 17,
   "metadata": {},
   "outputs": [],
   "source": [
    "def softthreshold(x, shrinkage):\n",
    "\n",
    "    # batch_size, height, width = x.shape[0], x.shape[1], x.shape[2]\n",
    "    \n",
    "    # compare each pixels in x with shrinkage value\n",
    "    x_thx = 0\n",
    "\n",
    "    if x > shrinkage:\n",
    "        x_thx = x - shrinkage\n",
    "    elif x < -shrinkage:\n",
    "        x_thx = x + shrinkage\n",
    "    else:\n",
    "        x_thx = 0\n",
    "    \n",
    "    return x_thx"
   ]
  },
  {
   "cell_type": "markdown",
   "metadata": {},
   "source": [
    "Test the soft thresholding function"
   ]
  },
  {
   "cell_type": "code",
   "execution_count": 18,
   "metadata": {},
   "outputs": [
    {
     "name": "stdout",
     "output_type": "stream",
     "text": [
      "[-10  -9  -8  -7  -6  -5  -4  -3  -2  -1   0   1   2   3   4   5   6   7\n",
      "   8   9  10]\n",
      "0\n",
      "0\n",
      "0\n",
      "0\n",
      "0\n",
      "0\n",
      "0\n",
      "0\n",
      "0\n",
      "0\n",
      "0\n",
      "0.9\n",
      "1.9\n",
      "2.9\n",
      "3.9\n",
      "4.9\n",
      "5.9\n",
      "6.9\n",
      "7.9\n",
      "8.9\n",
      "9.9\n"
     ]
    }
   ],
   "source": [
    "x_in = np.arange(-10, 11, 1)\n",
    "print(x_in)\n",
    "\n",
    "# apply soft thresholding\n",
    "for x in x_in:\n",
    "    x_out = softthreshold(x, 0.1)\n",
    "    print(x_out)"
   ]
  }
 ],
 "metadata": {
  "kernelspec": {
   "display_name": "Python 3.8.13",
   "language": "python",
   "name": "python3"
  },
  "language_info": {
   "codemirror_mode": {
    "name": "ipython",
    "version": 3
   },
   "file_extension": ".py",
   "mimetype": "text/x-python",
   "name": "python",
   "nbconvert_exporter": "python",
   "pygments_lexer": "ipython3",
   "version": "3.8.13"
  },
  "orig_nbformat": 4,
  "vscode": {
   "interpreter": {
    "hash": "d682f74c9ad418ca1e971b83eab4888a7eba299d9a86b811e07ae143a3b11ff5"
   }
  }
 },
 "nbformat": 4,
 "nbformat_minor": 2
}
