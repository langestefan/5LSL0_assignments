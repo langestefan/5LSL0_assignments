{
 "cells": [
  {
   "cell_type": "markdown",
   "metadata": {},
   "source": [
    "## Exercise 4"
   ]
  },
  {
   "cell_type": "code",
   "execution_count": null,
   "metadata": {},
   "outputs": [],
   "source": [
    "import torch\n",
    "from Fast_MRI_dataloader import create_dataloaders\n",
    "from tqdm import tqdm \n",
    "import matplotlib.pyplot as plt\n",
    "from torch.fft import fft2, fftshift, ifft2\n",
    "import numpy as np"
   ]
  },
  {
   "cell_type": "markdown",
   "metadata": {},
   "source": [
    "Exericse 4b"
   ]
  },
  {
   "cell_type": "code",
   "execution_count": null,
   "metadata": {},
   "outputs": [],
   "source": [
    "def get_k_space(input) :\n",
    "    # get the k-space\n",
    "    k_space = fftshift(fft2(input))\n",
    "    return k_space\n",
    "\n",
    "def get_partial_k_space(input,M) :\n",
    "    return  torch.mul(input, M)\n",
    "\n",
    "def get_accelerate_MRI(input) :\n",
    "    return ifft2(input)\n",
    "\n",
    "def soft_threshold(input, threshold) :\n",
    "    idx = torch.abs(input) > threshold\n",
    "    input[idx] = input[idx] * (torch.abs(input[idx]) - threshold)/torch.abs(input[idx])\n",
    "    input[~idx] = 0\n",
    "\n",
    "    return input\n",
    "\n",
    "def ISTA(mu, shrinkage, K, y, M) :\n",
    "    \n",
    "    H, W = y.shape[1:]\n",
    "\n",
    "    # initialize \n",
    "    input_images = y\n",
    "    x_k = np.zeros((H, W))\n",
    "\n",
    "    image_list = []\n",
    "\n",
    "    for idx, y in tqdm(enumerate(input_images)):\n",
    "        # print(\"shape of y: \", y.shape)\n",
    "        x = ifft2(y)\n",
    "        for i in range(K):\n",
    "            # gradient step, z = f1(x_k)\n",
    "            z = np.abs(x - mu*M)) \n",
    "        \n",
    "            # soft thresholding\n",
    "            x_k = soft_threshold(z, shrinkage)\n",
    "\n",
    "        # store the results\n",
    "        image_list.append(x_k)\n",
    "    \n",
    "    # convert to tensor\n",
    "    x_out = torch.from_numpy(np.array(image_list)).float()\n",
    "\n",
    "    return x_out"
   ]
  }
 ],
 "metadata": {
  "language_info": {
   "name": "python"
  },
  "orig_nbformat": 4
 },
 "nbformat": 4,
 "nbformat_minor": 2
}
